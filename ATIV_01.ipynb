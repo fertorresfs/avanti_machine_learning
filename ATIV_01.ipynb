{
  "nbformat": 4,
  "nbformat_minor": 0,
  "metadata": {
    "colab": {
      "provenance": [],
      "authorship_tag": "ABX9TyNuAe5yElkQ9vN5Ozcg7x4K",
      "include_colab_link": true
    },
    "kernelspec": {
      "name": "python3",
      "display_name": "Python 3"
    },
    "language_info": {
      "name": "python"
    }
  },
  "cells": [
    {
      "cell_type": "markdown",
      "metadata": {
        "id": "view-in-github",
        "colab_type": "text"
      },
      "source": [
        "<a href=\"https://colab.research.google.com/github/fertorresfs/avanti_machine_learning/blob/main/ATIV_01.ipynb\" target=\"_parent\"><img src=\"https://colab.research.google.com/assets/colab-badge.svg\" alt=\"Open In Colab\"/></a>"
      ]
    },
    {
      "cell_type": "markdown",
      "source": [
        "Aluno: Fernando Torres Ferreira da Silva\n",
        "Tema: Conceitos básicos em machine learning"
      ],
      "metadata": {
        "id": "HTzHxp-sZlPW"
      }
    },
    {
      "cell_type": "markdown",
      "source": [
        "1. Explique, com suas palavras, o que é machine learning?\n",
        "\n",
        "Resposta: O nome já diz muito, aprendizado de máquina, sendo um ramo da inteligencia artificial, trata-se de algoritmos executados por um dispositivo com capacidade de processamento,  conforme executa as instruções dos algoritmos(treinamento) melhora sua capacidade de processamento e reposta,apredendo de fato a partir de dados e apresentando um resultado cada vez melhor.\n"
      ],
      "metadata": {
        "id": "51gNxWrmZ0WP"
      }
    },
    {
      "cell_type": "markdown",
      "source": [
        "2. Explique o conceito de conjunto de treinamento, conjunto de validação e conjunto de teste em machine learning.\n",
        "\n",
        "Resposta: Conjunto de treinamento são dados que foram selecionados ou separados para treinar o algoritmo de ML, através deles o algoritmo ajusta seus parametros internos.\n",
        "\n",
        "Conjunto de validação são dados usados para ajustes de hiperparametros do modelo, desse modo podemos evitar o overfitting.\n",
        "\n",
        "Conjunto de teste são dados que foram selecionados ou separados para os testes de ML após o treinamento, através deles avalia-se o desempenho do modelo.\n"
      ],
      "metadata": {
        "id": "Qql9PS2BZ2qU"
      }
    },
    {
      "cell_type": "markdown",
      "source": [
        "3. Explique como você lidaria com dados ausentes em um conjunto de dados\n",
        "de treinamento.\n",
        "\n",
        "Resposta: Eu entenderia primeiro por ques estão ausentes pois depende muito do tipo de problema, para de fato tratar esses dados ausentes, se seria feita uma remoção de linhas e/ou colunas ou a imputação da média/mediana/moda/valores próximos ou até mesmo utilizar um modelo para prever os valores ausentes, dessa forma não prejudicaria o treinamento do meu modelo com informações incompletas.\n"
      ],
      "metadata": {
        "id": "AR0Pxrr3Z4MU"
      }
    },
    {
      "cell_type": "markdown",
      "source": [
        "4. O que é uma matriz de confusão e como ela é usada para avaliar o\n",
        "desempenho de um modelo preditivo?\n",
        "\n",
        "Resposta: A matriz de confusão é uma tabela da classificação de um modelo, que organiza as previsões em quatro categorias, sendo elas VP (verdadeiro positivo), VN (verdadeiro negativo), FP (falso positivo) e FN (falso negativo).\n",
        "\n",
        "Essa matriz permite calcular as principais métricas utilizadas para avaliar um modelo preditivo, sendo a precisão que é a proporção de previsões corretas (VP / (VP + FP)), a revocação que é a proporção de exemplos positivos que forma classificados corretamente (VP / (VP + FN)) e a pontuação F1 que é justamente a média da precisão e da revocação (2 * (P * R) / (P + R))."
      ],
      "metadata": {
        "id": "YQcyEdlfZ5kz"
      }
    },
    {
      "cell_type": "markdown",
      "source": [
        "5. Em quais áreas (tais como construção civil, agricultura, saúde, manufatura, entre outras) você acha mais interessante aplicar algoritmos de machine learning?\n",
        "\n",
        "Resposta: Vejo um leque muito grande, todas as áreas possuem dados que podem ser processados por machine learning, ou seja, o ML tem um pontencial enorme para impactar diversas áreas, mas eu particularmente acho mais interessante aplicar algoritmos de ML na área da saúde, pois vejo as seguintes possibilidades que me fascina, analisar imagens médicas e identificar doenças com uma precisão maior e com rapidez, através dos dados dos pacientes o modelo pode personalizar um tratamento prevendo a resposta para determinando tratamento, ou outra coisa fascinante seria descobrir novos medicamentos analisando grandes quantidades de dados sobre moléculas e suas propriedades."
      ],
      "metadata": {
        "id": "uWn0PCBjZ6xM"
      }
    }
  ]
}