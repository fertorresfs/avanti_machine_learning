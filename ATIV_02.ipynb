{
  "nbformat": 4,
  "nbformat_minor": 0,
  "metadata": {
    "colab": {
      "provenance": [],
      "authorship_tag": "ABX9TyNoFK+YROaoE/BonWUaDOfw",
      "include_colab_link": true
    },
    "kernelspec": {
      "name": "python3",
      "display_name": "Python 3"
    },
    "language_info": {
      "name": "python"
    }
  },
  "cells": [
    {
      "cell_type": "markdown",
      "metadata": {
        "id": "view-in-github",
        "colab_type": "text"
      },
      "source": [
        "<a href=\"https://colab.research.google.com/github/fertorresfs/avanti_machine_learning/blob/main/ATIV_02.ipynb\" target=\"_parent\"><img src=\"https://colab.research.google.com/assets/colab-badge.svg\" alt=\"Open In Colab\"/></a>"
      ]
    },
    {
      "cell_type": "markdown",
      "source": [
        "Aluno: Fernando Torres Ferreira da Silva\n",
        "Tema: Algoritmos básicos de programação em linguagem python e\n",
        "visualização e análise de dados.\n"
      ],
      "metadata": {
        "id": "KcnDn8V-oRj5"
      }
    },
    {
      "cell_type": "markdown",
      "source": [
        "1. Escreva uma função que receba uma lista de números e retorne outra lista\n",
        "com os números ímpares.\n"
      ],
      "metadata": {
        "id": "i7mYzwqhonpr"
      }
    },
    {
      "cell_type": "code",
      "execution_count": 1,
      "metadata": {
        "colab": {
          "base_uri": "https://localhost:8080/"
        },
        "id": "4koxRh3xn4-6",
        "outputId": "96358d7a-92f5-439e-8e8f-c5a7ddb60cbd"
      },
      "outputs": [
        {
          "output_type": "stream",
          "name": "stdout",
          "text": [
            "[1, 3, 5, 7, 9]\n"
          ]
        }
      ],
      "source": [
        "def obter_impares(lista):\n",
        "    impares = []\n",
        "    for numero in lista:\n",
        "        if numero % 2 != 0:\n",
        "            impares.append(numero)\n",
        "    return impares\n",
        "\n",
        "lista = [1,2,3,4,5,6,7,8,9]\n",
        "impares = obter_impares(lista)\n",
        "print(impares)"
      ]
    },
    {
      "cell_type": "markdown",
      "source": [
        "2. Escreva uma função que receba uma lista de números e retorne outra lista\n",
        "com os números primos presentes.\n"
      ],
      "metadata": {
        "id": "Xuaun5NuotN1"
      }
    },
    {
      "cell_type": "code",
      "source": [
        "def obter_primos(lista):\n",
        "    primos = []\n",
        "    for numero in lista:\n",
        "        if numero > 1:\n",
        "            for i in range(2, numero):\n",
        "                if (numero % i) == 0:\n",
        "                    break\n",
        "            else:\n",
        "                primos.append(numero)\n",
        "\n",
        "    return primos\n",
        "\n",
        "lista = [1,2,3,4,5,6,7,8,9,10,11,12,13]\n",
        "primos = obter_primos(lista)\n",
        "print(primos)"
      ],
      "metadata": {
        "colab": {
          "base_uri": "https://localhost:8080/"
        },
        "id": "5Tyzj7_jpoIs",
        "outputId": "55a8ece6-0292-4d4e-c3d7-8db6d69ca7a0"
      },
      "execution_count": 2,
      "outputs": [
        {
          "output_type": "stream",
          "name": "stdout",
          "text": [
            "[2, 3, 5, 7, 11, 13]\n"
          ]
        }
      ]
    },
    {
      "cell_type": "markdown",
      "source": [
        "3. Escreva uma função que receba duas listas e retorne outra lista com os\n",
        "elementos que estão presentes em apenas uma das listas.\n"
      ],
      "metadata": {
        "id": "0ygKqHEfovw6"
      }
    },
    {
      "cell_type": "code",
      "source": [
        "def elementos_unicos(lista1, lista2):\n",
        "    unicos = []\n",
        "    for elemento in lista1:\n",
        "        if elemento not in lista2:\n",
        "            unicos.append(elemento)\n",
        "    for elemento in lista2:\n",
        "        if elemento not in lista1:\n",
        "            unicos.append(elemento)\n",
        "    return unicos\n",
        "\n",
        "lista1 = [0,1,2,3,4,5]\n",
        "lista2 = [3,4,5,6,7,8]\n",
        "unicos = elementos_unicos(lista1, lista2)\n",
        "print(unicos)"
      ],
      "metadata": {
        "colab": {
          "base_uri": "https://localhost:8080/"
        },
        "id": "If53NYU4qmgk",
        "outputId": "ed9a2330-f005-4e20-a663-d49a2e3ab2f3"
      },
      "execution_count": 4,
      "outputs": [
        {
          "output_type": "stream",
          "name": "stdout",
          "text": [
            "[0, 1, 2, 6, 7, 8]\n"
          ]
        }
      ]
    },
    {
      "cell_type": "markdown",
      "source": [
        "4. Dada uma lista de números inteiros, escreva uma função para encontrar o\n",
        "segundo maior valor na lista.\n"
      ],
      "metadata": {
        "id": "FKle5QB9oyav"
      }
    },
    {
      "cell_type": "markdown",
      "source": [
        "5. Crie uma função que receba uma lista de tuplas, cada uma contendo o\n",
        "nome e a idade de uma pessoa, e retorne a lista ordenada pelo nome das\n",
        "pessoas em ordem alfabética.\n"
      ],
      "metadata": {
        "id": "oE830q2ro0ik"
      }
    },
    {
      "cell_type": "code",
      "source": [
        "def ordenar_pessoas(lista_pessoas):\n",
        "    return sorted(lista_pessoas, key=lambda x: x[0])\n",
        "\n",
        "pessoas = [('Fernando',38),('Bruna',39),('Davi',6),('Ayra',18)]\n",
        "pessoas_ordenadas = ordenar_pessoas(pessoas)\n",
        "print(pessoas_ordenadas)"
      ],
      "metadata": {
        "colab": {
          "base_uri": "https://localhost:8080/"
        },
        "id": "iVq_q5GT_boG",
        "outputId": "43e29bbc-5057-4647-c4d8-c69315e4fca9"
      },
      "execution_count": 10,
      "outputs": [
        {
          "output_type": "stream",
          "name": "stdout",
          "text": [
            "[('Ayra', 18), ('Bruna', 39), ('Davi', 6), ('Fernando', 38)]\n"
          ]
        }
      ]
    },
    {
      "cell_type": "markdown",
      "source": [
        "6. Observe os espaços sublinhados e complete o código.\n"
      ],
      "metadata": {
        "id": "ovZHyGjWo2lk"
      }
    },
    {
      "cell_type": "code",
      "source": [
        "import matplotlib.pyplot as plt\n",
        "import numpy as pd\n",
        "\n",
        "fig, axs = plt.subplots(ncols=2, nrows=2, figsize=(5.5, 3.5), layout=\"constrained\")\n",
        "for row in range(2):\n",
        "  for col in range(2):\n",
        "    axs[row, col].annotate(f'axs[{row}, {col}]', (0.5, 0.5), transform=axs[row, col].transAxes, ha='center', va='center', fontsize=18, color='darkgrey')\n",
        "fig.suptitle('__.subplots()')"
      ],
      "metadata": {
        "colab": {
          "base_uri": "https://localhost:8080/",
          "height": 395
        },
        "id": "arwWlzZY_-fQ",
        "outputId": "c78e634d-b299-4dd6-9685-fe43de1638d9"
      },
      "execution_count": 11,
      "outputs": [
        {
          "output_type": "execute_result",
          "data": {
            "text/plain": [
              "Text(0.5, 0.98, '__.subplots()')"
            ]
          },
          "metadata": {},
          "execution_count": 11
        },
        {
          "output_type": "display_data",
          "data": {
            "text/plain": [
              "<Figure size 550x350 with 4 Axes>"
            ],
            "image/png": "[encoded data removed]"
          },
          "metadata": {}
        }
      ]
    },
    {
      "cell_type": "markdown",
      "source": [
        "7. Observe os espaços sublinhados e complete o código."
      ],
      "metadata": {
        "id": "JAj7hrVyo4qX"
      }
    },
    {
      "cell_type": "code",
      "source": [
        "import numpy as np\n",
        "import matplotlib as mpl\n",
        "import matplotlib.pyplot as plt\n",
        "\n",
        "x = np.linspace(-2 * np.pi, 2 * np.pi, 100)\n",
        "y = np.sin(x)\n",
        "fig, ax = plt.subplots()\n",
        "ax.plot(x, y)"
      ],
      "metadata": {
        "colab": {
          "base_uri": "https://localhost:8080/",
          "height": 447
        },
        "id": "yxfo928vBABq",
        "outputId": "e805c118-e73a-4953-d817-29454aad4807"
      },
      "execution_count": 12,
      "outputs": [
        {
          "output_type": "execute_result",
          "data": {
            "text/plain": [
              "[<matplotlib.lines.Line2D at 0x7c4f1360fbb0>]"
            ]
          },
          "metadata": {},
          "execution_count": 12
        },
        {
          "output_type": "display_data",
          "data": {
            "text/plain": [
              "<Figure size 640x480 with 1 Axes>"
            ],
            "image/png": "[encoded data removed]"
          },
          "metadata": {}
        }
      ]
    },
    {
      "cell_type": "markdown",
      "source": [
        "8. Utilizando pandas, como realizar a leitura de um arquivo CSV em um\n",
        "DataFrame e exibir as primeiras linhas?\n"
      ],
      "metadata": {
        "id": "W0EqgZ5ko6LR"
      }
    },
    {
      "cell_type": "code",
      "source": [
        "import pandas as pd\n",
        "\n",
        "df = pd.read_csv('dados.csv')\n",
        "print(df.head())"
      ],
      "metadata": {
        "colab": {
          "base_uri": "https://localhost:8080/"
        },
        "id": "v6f-BMx_BruA",
        "outputId": "7bac6e43-cc38-42ae-f0d4-1443041bc8af"
      },
      "execution_count": 17,
      "outputs": [
        {
          "output_type": "stream",
          "name": "stdout",
          "text": [
            "                                        Título     Ano               Diretor  \\\n",
            "0                            O Poderoso Chefão  1972.0  Francis Ford Coppola   \n",
            "1  Star Wars: Episódio IV - Uma Nova Esperança  1977.0          George Lucas   \n",
            "2                                          NaN  1985.0    George P. Cosmatos   \n",
            "3      O Senhor dos Anéis: A Sociedade do Anel  2001.0         Peter Jackson   \n",
            "4                                 Transformers     NaN                   NaN   \n",
            "\n",
            "              Gênero  \n",
            "0              Crime  \n",
            "1  Ficção Científica  \n",
            "2               Ação  \n",
            "3           Fantasia  \n",
            "4  Ficção Científica  \n"
          ]
        }
      ]
    },
    {
      "cell_type": "markdown",
      "source": [
        "9. Utilizando pandas, como selecionar uma coluna específica e filtrar linhas em um “DataFrame” com base em uma condição?\n"
      ],
      "metadata": {
        "id": "OiszqLzVo8rw"
      }
    },
    {
      "cell_type": "code",
      "source": [
        "import pandas as pd\n",
        "\n",
        "df = pd.read_csv('dados.csv')\n",
        "coluna = df['Ano']\n",
        "linhas_filtradas = df[df['Ano'] > 2000]\n",
        "print(coluna)\n",
        "print(linhas_filtradas)"
      ],
      "metadata": {
        "colab": {
          "base_uri": "https://localhost:8080/"
        },
        "id": "o5c0FLgMB5A6",
        "outputId": "fa709d62-4953-48d1-b3a7-024e5a86c5e5"
      },
      "execution_count": 18,
      "outputs": [
        {
          "output_type": "stream",
          "name": "stdout",
          "text": [
            "0    1972.0\n",
            "1    1977.0\n",
            "2    1985.0\n",
            "3    2001.0\n",
            "4       NaN\n",
            "5    2019.0\n",
            "Name: Ano, dtype: float64\n",
            "                                    Título     Ano        Diretor    Gênero\n",
            "3  O Senhor dos Anéis: A Sociedade do Anel  2001.0  Peter Jackson  Fantasia\n",
            "5                         Rambo: Até o Fim  2019.0            NaN      Ação\n"
          ]
        }
      ]
    },
    {
      "cell_type": "markdown",
      "source": [
        "10. Utilizando pandas, como lidar com valores ausentes (NaN) em um\n",
        "DataFrame?"
      ],
      "metadata": {
        "id": "dvff6IDto9z0"
      }
    },
    {
      "cell_type": "code",
      "source": [
        "import pandas as pd\n",
        "\n",
        "df = pd.read_csv('dados.csv')\n",
        "df = df.dropna()\n",
        "print(df)"
      ],
      "metadata": {
        "colab": {
          "base_uri": "https://localhost:8080/"
        },
        "id": "yPJSqCYMCPaZ",
        "outputId": "faaf7226-122b-480f-f448-f73896c93feb"
      },
      "execution_count": 19,
      "outputs": [
        {
          "output_type": "stream",
          "name": "stdout",
          "text": [
            "                                        Título     Ano               Diretor  \\\n",
            "0                            O Poderoso Chefão  1972.0  Francis Ford Coppola   \n",
            "1  Star Wars: Episódio IV - Uma Nova Esperança  1977.0          George Lucas   \n",
            "3      O Senhor dos Anéis: A Sociedade do Anel  2001.0         Peter Jackson   \n",
            "\n",
            "              Gênero  \n",
            "0              Crime  \n",
            "1  Ficção Científica  \n",
            "3           Fantasia  \n"
          ]
        }
      ]
    }
  ]
}